{
 "cells": [
  {
   "cell_type": "code",
   "execution_count": null,
   "id": "a90e559b",
   "metadata": {},
   "outputs": [],
   "source": [
    "import numpy as np"
   ]
  },
  {
   "cell_type": "code",
   "execution_count": null,
   "id": "16e1ce58",
   "metadata": {},
   "outputs": [],
   "source": [
    "d = 4.0        # diameter in meters\n",
    "eta = 0.5      # efficiency\n",
    "\n",
    "c = 299792458\n",
    "\n",
    "freq = np.array([1.42e9, 10e9])\n",
    "wavelengths = c/freq\n",
    "\n",
    "A_g = np.pi * (d / 2) ** 2\n",
    "\n",
    "Omega_A = wavelengths**2 / (A_g * eta)\n",
    "theta_rad = 2 * wavelengths / (np.pi * d * np.sqrt(eta))\n",
    "theta_deg = np.degrees(theta_rad)\n",
    "\n",
    "for the, lam, f in zip(theta_deg, wavelengths,freq):\n",
    "    print(f\"{the:.3f} & {lam:.3e} & {f/1e9:.3f}\")"
   ]
  },
  {
   "cell_type": "code",
   "execution_count": null,
   "id": "2fab9844",
   "metadata": {},
   "outputs": [],
   "source": []
  }
 ],
 "metadata": {
  "language_info": {
   "name": "python"
  }
 },
 "nbformat": 4,
 "nbformat_minor": 5
}
