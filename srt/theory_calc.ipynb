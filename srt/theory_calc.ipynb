{
 "cells": [
  {
   "cell_type": "code",
   "execution_count": 1,
   "id": "a90e559b",
   "metadata": {},
   "outputs": [],
   "source": [
    "import numpy as np\n",
    "import PhysicsTool as pt\n",
    "import sympy"
   ]
  },
  {
   "cell_type": "code",
   "execution_count": 2,
   "id": "16e1ce58",
   "metadata": {},
   "outputs": [
    {
     "name": "stdout",
     "output_type": "stream",
     "text": [
      "2.723 & 2.111e-01 & 1.420\n",
      "0.387 & 2.998e-02 & 10.000\n"
     ]
    }
   ],
   "source": [
    "d = 4.0        # diameter in meters\n",
    "eta = 0.5      # efficiency\n",
    "\n",
    "c = 299792458\n",
    "\n",
    "freq = np.array([1.42e9, 10e9])\n",
    "wavelengths = c/freq\n",
    "\n",
    "A_g = np.pi * (d / 2) ** 2\n",
    "\n",
    "theta_rad = 2 * wavelengths / (np.pi * d * np.sqrt(eta))\n",
    "theta_deg = np.degrees(theta_rad)\n",
    "\n",
    "for the, lam, f in zip(theta_deg, wavelengths,freq):\n",
    "    print(f\"{the:.3f} & {lam:.3e} & {f/1e9:.3f}\")"
   ]
  },
  {
   "cell_type": "code",
   "execution_count": 3,
   "id": "2fab9844",
   "metadata": {},
   "outputs": [
    {
     "name": "stdout",
     "output_type": "stream",
     "text": [
      "0.00959306138952231\n",
      "58.1028074429082\n"
     ]
    }
   ],
   "source": [
    "sun_surface_temp = 5778 #K\n",
    "sun_half_angle = 16/60\n",
    "background_temp = 2.7\n",
    "\n",
    "beam_filling_factor = (sun_half_angle/theta_deg[0])**2\n",
    "\n",
    "print(beam_filling_factor)\n",
    "\n",
    "expected_temp = sun_surface_temp * beam_filling_factor + background_temp * (1-beam_filling_factor)\n",
    "print(expected_temp)"
   ]
  }
 ],
 "metadata": {
  "kernelspec": {
   "display_name": ".venv",
   "language": "python",
   "name": "python3"
  },
  "language_info": {
   "codemirror_mode": {
    "name": "ipython",
    "version": 3
   },
   "file_extension": ".py",
   "mimetype": "text/x-python",
   "name": "python",
   "nbconvert_exporter": "python",
   "pygments_lexer": "ipython3",
   "version": "3.12.3"
  }
 },
 "nbformat": 4,
 "nbformat_minor": 5
}
