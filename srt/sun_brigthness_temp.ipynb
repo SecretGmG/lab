{
 "cells": [
  {
   "cell_type": "code",
   "execution_count": 5,
   "id": "8bef45dd",
   "metadata": {},
   "outputs": [],
   "source": [
    "import srt_util\n",
    "import matplotlib.pyplot as plt\n",
    "import numpy as np\n",
    "import PhysicsTool as pt\n",
    "import sympy\n",
    "pt.plotting.set_theme()\n",
    "np.set_printoptions(precision=3, suppress=False)"
   ]
  },
  {
   "cell_type": "code",
   "execution_count": 8,
   "id": "36ca32a2",
   "metadata": {},
   "outputs": [
    {
     "data": {
      "text/plain": [
       "'P_ref_hot [a.u.] = '"
      ]
     },
     "metadata": {},
     "output_type": "display_data"
    },
    {
     "data": {
      "text/latex": [
       "$545 \\pm 27$"
      ],
      "text/plain": [
       "545 ± 27"
      ]
     },
     "metadata": {},
     "output_type": "display_data"
    },
    {
     "data": {
      "text/plain": [
       "'P_ref_cold [a.u.] = '"
      ]
     },
     "metadata": {},
     "output_type": "display_data"
    },
    {
     "data": {
      "text/latex": [
       "$97 \\pm 4$"
      ],
      "text/plain": [
       "97 ± 4"
      ]
     },
     "metadata": {},
     "output_type": "display_data"
    },
    {
     "data": {
      "text/plain": [
       "'P_sun [a.u.] = '"
      ]
     },
     "metadata": {},
     "output_type": "display_data"
    },
    {
     "data": {
      "text/latex": [
       "$(2.7 \\pm 0.1) \\times 10^{3}$"
      ],
      "text/plain": [
       "(2.7 ± 0.1) × 10^3"
      ]
     },
     "metadata": {},
     "output_type": "display_data"
    }
   ],
   "source": [
    "\n",
    "bw_spectrometer = 2e6\n",
    "\n",
    "with srt_util.SRT_HDF_Reader(\"Measurements/CaibAndSunTemp/SunTemp1_RefCold_T1225_20251002.hdf\") as srt_reader:\n",
    "    P_ref_cold1 = np.average(srt_reader.get_power_spectrum().sum(axis=1)) * bw_spectrometer\n",
    "with srt_util.SRT_HDF_Reader(\"Measurements/CaibAndSunTemp/SunTemp1_RefHot_T1225_20251002.hdf\") as srt_reader:\n",
    "    P_ref_hot1  = np.average(srt_reader.get_power_spectrum().sum(axis=1)) * bw_spectrometer\n",
    "with srt_util.SRT_HDF_Reader(\"Measurements/CaibAndSunTemp/SunTemp1_Sun_T1225_20251002.hdf\") as srt_reader:\n",
    "    P_sun1 = np.average(srt_reader.get_power_spectrum().sum(axis=1))  * bw_spectrometer\n",
    "\n",
    "with srt_util.SRT_HDF_Reader(\"Measurements/CaibAndSunTemp/SunTemp2_RefCold_T1228_20251002.hdf\") as srt_reader:\n",
    "    P_ref_cold2 = np.average(srt_reader.get_power_spectrum().sum(axis=1))  * bw_spectrometer\n",
    "with srt_util.SRT_HDF_Reader(\"Measurements/CaibAndSunTemp/SunTemp2_RefHot_T1228_20251002.hdf\") as srt_reader:\n",
    "    P_ref_hot2  = np.average(srt_reader.get_power_spectrum().sum(axis=1))  * bw_spectrometer\n",
    "with srt_util.SRT_HDF_Reader(\"Measurements/CaibAndSunTemp/SunTemp2_Sun_T1228_20251002.hdf\") as srt_reader:\n",
    "    P_sun2 = np.average(srt_reader.get_power_spectrum().sum(axis=1))  * bw_spectrometer\n",
    "\n",
    "with srt_util.SRT_HDF_Reader(\"Measurements/CaibAndSunTemp/SunTemp3_RefCold_T1230_20251002.hdf\") as srt_reader:\n",
    "    P_ref_cold3 = np.average(srt_reader.get_power_spectrum().sum(axis=1))  * bw_spectrometer\n",
    "with srt_util.SRT_HDF_Reader(\"Measurements/CaibAndSunTemp/SunTemp3_RefHot_T1230_20251002.hdf\") as srt_reader:\n",
    "    P_ref_hot3  = np.average(srt_reader.get_power_spectrum().sum(axis=1))  * bw_spectrometer\n",
    "with srt_util.SRT_HDF_Reader(\"Measurements/CaibAndSunTemp/SunTemp3_Sun_T1230_20251002.hdf\") as srt_reader:\n",
    "    P_sun3 = np.average(srt_reader.get_power_spectrum().sum(axis=1))  * bw_spectrometer\n",
    "\n",
    "# print(P_ref_cold1)\n",
    "# print(P_ref_hot1)\n",
    "# print(P_sun1)\n",
    "\n",
    "# print(\" \")\n",
    "# print(P_ref_cold2)\n",
    "# print(P_ref_hot2)\n",
    "# print(P_sun2)\n",
    "\n",
    "# print(\" \")\n",
    "# print(P_ref_cold3)\n",
    "# print(P_ref_hot3)\n",
    "# print(P_sun3)\n",
    "\n",
    "# All three measurements have almost same values. Use only Measurement 1\n",
    "# Assume 5% error for integrated power\n",
    "P_ERR_REL = 0.05\n",
    "P_c = pt.UErr(P_ref_cold1, P_ref_cold1*P_ERR_REL)\n",
    "P_h = pt.UErr(P_ref_hot1, P_ref_hot1*P_ERR_REL)\n",
    "P_s = pt.UErr(P_sun1, P_sun1*P_ERR_REL)\n",
    "\n",
    "# Reference Temperatures (Assume 1% error for T_hot and T_cold)\n",
    "T_HOT_VAL = 562.7\n",
    "T_COLD_VAL = 2.7\n",
    "T_ERR_REL = 0.01\n",
    "T_h = pt.UErr(T_HOT_VAL, T_HOT_VAL*T_ERR_REL)\n",
    "T_c = pt.UErr(T_COLD_VAL, T_COLD_VAL*T_ERR_REL)\n",
    "\n",
    "display(\"P_ref_hot [a.u.] = \", P_h)\n",
    "display(\"P_ref_cold [a.u.] = \", P_c)\n",
    "display(\"P_sun [a.u.] = \", P_s)\n"
   ]
  },
  {
   "cell_type": "code",
   "execution_count": 7,
   "id": "4efc0977",
   "metadata": {},
   "outputs": [
    {
     "data": {
      "text/latex": [
       "$\\displaystyle G = \\frac{- P_{c} + P_{h}}{- T_{c} + T_{h}}$"
      ],
      "text/plain": [
       "Eq(G, (-P_c + P_h)/(-T_c + T_h))"
      ]
     },
     "metadata": {},
     "output_type": "display_data"
    },
    {
     "data": {
      "text/latex": [
       "$\\displaystyle s_{G}^{2} = s_{P c}^{2} \\left(\\frac{\\partial}{\\partial P_{c}} G{\\left(T_{c},T_{h},P_{h},P_{c} \\right)}\\right)^{2} + s_{P h}^{2} \\left(\\frac{\\partial}{\\partial P_{h}} G{\\left(T_{c},T_{h},P_{h},P_{c} \\right)}\\right)^{2} + s_{T c}^{2} \\left(\\frac{\\partial}{\\partial T_{c}} G{\\left(T_{c},T_{h},P_{h},P_{c} \\right)}\\right)^{2} + s_{T h}^{2} \\left(\\frac{\\partial}{\\partial T_{h}} G{\\left(T_{c},T_{h},P_{h},P_{c} \\right)}\\right)^{2}$"
      ],
      "text/plain": [
       "Eq(s_G**2, s_P_c**2*Derivative(G(T_c, T_h, P_h, P_c), P_c)**2 + s_P_h**2*Derivative(G(T_c, T_h, P_h, P_c), P_h)**2 + s_T_c**2*Derivative(G(T_c, T_h, P_h, P_c), T_c)**2 + s_T_h**2*Derivative(G(T_c, T_h, P_h, P_c), T_h)**2)"
      ]
     },
     "metadata": {},
     "output_type": "display_data"
    },
    {
     "name": "stdout",
     "output_type": "stream",
     "text": [
      "s_{G}^{2} = s_{P c}^{2} \\left(\\frac{\\partial}{\\partial P_{c}} G{\\left(T_{c},T_{h},P_{h},P_{c} \\right)}\\right)^{2} + s_{P h}^{2} \\left(\\frac{\\partial}{\\partial P_{h}} G{\\left(T_{c},T_{h},P_{h},P_{c} \\right)}\\right)^{2} + s_{T c}^{2} \\left(\\frac{\\partial}{\\partial T_{c}} G{\\left(T_{c},T_{h},P_{h},P_{c} \\right)}\\right)^{2} + s_{T h}^{2} \\left(\\frac{\\partial}{\\partial T_{h}} G{\\left(T_{c},T_{h},P_{h},P_{c} \\right)}\\right)^{2}\n"
     ]
    },
    {
     "data": {
      "text/latex": [
       "$\\displaystyle s_{G}^{2} = s_{P c}^{2} \\left(- \\frac{1}{- T_{c} + T_{h}}\\right)^{2} + s_{P h}^{2} \\left(\\frac{1}{- T_{c} + T_{h}}\\right)^{2} + s_{T c}^{2} \\left(\\frac{- P_{c} + P_{h}}{\\left(- T_{c} + T_{h}\\right)^{2}}\\right)^{2} + s_{T h}^{2} \\left(- \\frac{- P_{c} + P_{h}}{\\left(- T_{c} + T_{h}\\right)^{2}}\\right)^{2}$"
      ],
      "text/plain": [
       "Eq(s_G**2, s_P_c**2*(-1/(-T_c + T_h))**2 + s_P_h**2*(1/(-T_c + T_h))**2 + s_T_c**2*((-P_c + P_h)/(-T_c + T_h)**2)**2 + s_T_h**2*(-(-P_c + P_h)/(-T_c + T_h)**2)**2)"
      ]
     },
     "metadata": {},
     "output_type": "display_data"
    },
    {
     "name": "stdout",
     "output_type": "stream",
     "text": [
      "s_{G}^{2} = s_{P c}^{2} \\left(- \\frac{1}{- T_{c} + T_{h}}\\right)^{2} + s_{P h}^{2} \\left(\\frac{1}{- T_{c} + T_{h}}\\right)^{2} + s_{T c}^{2} \\left(\\frac{- P_{c} + P_{h}}{\\left(- T_{c} + T_{h}\\right)^{2}}\\right)^{2} + s_{T h}^{2} \\left(- \\frac{- P_{c} + P_{h}}{\\left(- T_{c} + T_{h}\\right)^{2}}\\right)^{2}\n"
     ]
    },
    {
     "data": {
      "text/latex": [
       "$\\displaystyle s_{G} = \\sqrt{s_{P c}^{2} \\left(- \\frac{1}{- T_{c} + T_{h}}\\right)^{2} + s_{P h}^{2} \\left(\\frac{1}{- T_{c} + T_{h}}\\right)^{2} + s_{T c}^{2} \\left(\\frac{- P_{c} + P_{h}}{\\left(- T_{c} + T_{h}\\right)^{2}}\\right)^{2} + s_{T h}^{2} \\left(- \\frac{- P_{c} + P_{h}}{\\left(- T_{c} + T_{h}\\right)^{2}}\\right)^{2}}$"
      ],
      "text/plain": [
       "Eq(s_G, sqrt(s_P_c**2*(-1/(-T_c + T_h))**2 + s_P_h**2*(1/(-T_c + T_h))**2 + s_T_c**2*((-P_c + P_h)/(-T_c + T_h)**2)**2 + s_T_h**2*(-(-P_c + P_h)/(-T_c + T_h)**2)**2))"
      ]
     },
     "metadata": {},
     "output_type": "display_data"
    },
    {
     "name": "stdout",
     "output_type": "stream",
     "text": [
      "s_{G} = \\sqrt{s_{P c}^{2} \\left(- \\frac{1}{- T_{c} + T_{h}}\\right)^{2} + s_{P h}^{2} \\left(\\frac{1}{- T_{c} + T_{h}}\\right)^{2} + s_{T c}^{2} \\left(\\frac{- P_{c} + P_{h}}{\\left(- T_{c} + T_{h}\\right)^{2}}\\right)^{2} + s_{T h}^{2} \\left(- \\frac{- P_{c} + P_{h}}{\\left(- T_{c} + T_{h}\\right)^{2}}\\right)^{2}}\n"
     ]
    },
    {
     "data": {
      "text/latex": [
       "$\\displaystyle \\sqrt{s_{P c}^{2} \\left(- \\frac{1}{- T_{c} + T_{h}}\\right)^{2} + s_{P h}^{2} \\left(\\frac{1}{- T_{c} + T_{h}}\\right)^{2} + s_{T c}^{2} \\left(\\frac{- P_{c} + P_{h}}{\\left(- T_{c} + T_{h}\\right)^{2}}\\right)^{2} + s_{T h}^{2} \\left(- \\frac{- P_{c} + P_{h}}{\\left(- T_{c} + T_{h}\\right)^{2}}\\right)^{2}}$"
      ],
      "text/plain": [
       "sqrt(s_P_c**2*(-1/(-T_c + T_h))**2 + s_P_h**2*(1/(-T_c + T_h))**2 + s_T_c**2*((-P_c + P_h)/(-T_c + T_h)**2)**2 + s_T_h**2*(-(-P_c + P_h)/(-T_c + T_h)**2)**2)"
      ]
     },
     "metadata": {},
     "output_type": "display_data"
    },
    {
     "data": {
      "text/latex": [
       "$\\displaystyle T_{N} = \\frac{P_{c} T_{h} - P_{h} T_{c}}{- P_{c} + P_{h}}$"
      ],
      "text/plain": [
       "Eq(T_N, (P_c*T_h - P_h*T_c)/(-P_c + P_h))"
      ]
     },
     "metadata": {},
     "output_type": "display_data"
    },
    {
     "data": {
      "text/latex": [
       "$\\displaystyle s_{T N}^{2} = s_{P c}^{2} \\left(\\frac{\\partial}{\\partial P_{c}} T_{N}{\\left(T_{c},T_{h},P_{h},P_{c} \\right)}\\right)^{2} + s_{P h}^{2} \\left(\\frac{\\partial}{\\partial P_{h}} T_{N}{\\left(T_{c},T_{h},P_{h},P_{c} \\right)}\\right)^{2} + s_{T c}^{2} \\left(\\frac{\\partial}{\\partial T_{c}} T_{N}{\\left(T_{c},T_{h},P_{h},P_{c} \\right)}\\right)^{2} + s_{T h}^{2} \\left(\\frac{\\partial}{\\partial T_{h}} T_{N}{\\left(T_{c},T_{h},P_{h},P_{c} \\right)}\\right)^{2}$"
      ],
      "text/plain": [
       "Eq(s_T_N**2, s_P_c**2*Derivative(T_N(T_c, T_h, P_h, P_c), P_c)**2 + s_P_h**2*Derivative(T_N(T_c, T_h, P_h, P_c), P_h)**2 + s_T_c**2*Derivative(T_N(T_c, T_h, P_h, P_c), T_c)**2 + s_T_h**2*Derivative(T_N(T_c, T_h, P_h, P_c), T_h)**2)"
      ]
     },
     "metadata": {},
     "output_type": "display_data"
    },
    {
     "name": "stdout",
     "output_type": "stream",
     "text": [
      "s_{T N}^{2} = s_{P c}^{2} \\left(\\frac{\\partial}{\\partial P_{c}} T_{N}{\\left(T_{c},T_{h},P_{h},P_{c} \\right)}\\right)^{2} + s_{P h}^{2} \\left(\\frac{\\partial}{\\partial P_{h}} T_{N}{\\left(T_{c},T_{h},P_{h},P_{c} \\right)}\\right)^{2} + s_{T c}^{2} \\left(\\frac{\\partial}{\\partial T_{c}} T_{N}{\\left(T_{c},T_{h},P_{h},P_{c} \\right)}\\right)^{2} + s_{T h}^{2} \\left(\\frac{\\partial}{\\partial T_{h}} T_{N}{\\left(T_{c},T_{h},P_{h},P_{c} \\right)}\\right)^{2}\n"
     ]
    },
    {
     "data": {
      "text/latex": [
       "$\\displaystyle s_{T N}^{2} = s_{P c}^{2} \\left(\\frac{T_{h}}{- P_{c} + P_{h}} + \\frac{P_{c} T_{h} - P_{h} T_{c}}{\\left(- P_{c} + P_{h}\\right)^{2}}\\right)^{2} + s_{P h}^{2} \\left(- \\frac{T_{c}}{- P_{c} + P_{h}} - \\frac{P_{c} T_{h} - P_{h} T_{c}}{\\left(- P_{c} + P_{h}\\right)^{2}}\\right)^{2} + s_{T c}^{2} \\left(- \\frac{P_{h}}{- P_{c} + P_{h}}\\right)^{2} + s_{T h}^{2} \\left(\\frac{P_{c}}{- P_{c} + P_{h}}\\right)^{2}$"
      ],
      "text/plain": [
       "Eq(s_T_N**2, s_P_c**2*(T_h/(-P_c + P_h) + (P_c*T_h - P_h*T_c)/(-P_c + P_h)**2)**2 + s_P_h**2*(-T_c/(-P_c + P_h) - (P_c*T_h - P_h*T_c)/(-P_c + P_h)**2)**2 + s_T_c**2*(-P_h/(-P_c + P_h))**2 + s_T_h**2*(P_c/(-P_c + P_h))**2)"
      ]
     },
     "metadata": {},
     "output_type": "display_data"
    },
    {
     "name": "stdout",
     "output_type": "stream",
     "text": [
      "s_{T N}^{2} = s_{P c}^{2} \\left(\\frac{T_{h}}{- P_{c} + P_{h}} + \\frac{P_{c} T_{h} - P_{h} T_{c}}{\\left(- P_{c} + P_{h}\\right)^{2}}\\right)^{2} + s_{P h}^{2} \\left(- \\frac{T_{c}}{- P_{c} + P_{h}} - \\frac{P_{c} T_{h} - P_{h} T_{c}}{\\left(- P_{c} + P_{h}\\right)^{2}}\\right)^{2} + s_{T c}^{2} \\left(- \\frac{P_{h}}{- P_{c} + P_{h}}\\right)^{2} + s_{T h}^{2} \\left(\\frac{P_{c}}{- P_{c} + P_{h}}\\right)^{2}\n"
     ]
    },
    {
     "data": {
      "text/latex": [
       "$\\displaystyle s_{T N} = \\sqrt{s_{P c}^{2} \\left(\\frac{T_{h}}{- P_{c} + P_{h}} + \\frac{P_{c} T_{h} - P_{h} T_{c}}{\\left(- P_{c} + P_{h}\\right)^{2}}\\right)^{2} + s_{P h}^{2} \\left(- \\frac{T_{c}}{- P_{c} + P_{h}} - \\frac{P_{c} T_{h} - P_{h} T_{c}}{\\left(- P_{c} + P_{h}\\right)^{2}}\\right)^{2} + s_{T c}^{2} \\left(- \\frac{P_{h}}{- P_{c} + P_{h}}\\right)^{2} + s_{T h}^{2} \\left(\\frac{P_{c}}{- P_{c} + P_{h}}\\right)^{2}}$"
      ],
      "text/plain": [
       "Eq(s_T_N, sqrt(s_P_c**2*(T_h/(-P_c + P_h) + (P_c*T_h - P_h*T_c)/(-P_c + P_h)**2)**2 + s_P_h**2*(-T_c/(-P_c + P_h) - (P_c*T_h - P_h*T_c)/(-P_c + P_h)**2)**2 + s_T_c**2*(-P_h/(-P_c + P_h))**2 + s_T_h**2*(P_c/(-P_c + P_h))**2))"
      ]
     },
     "metadata": {},
     "output_type": "display_data"
    },
    {
     "name": "stdout",
     "output_type": "stream",
     "text": [
      "s_{T N} = \\sqrt{s_{P c}^{2} \\left(\\frac{T_{h}}{- P_{c} + P_{h}} + \\frac{P_{c} T_{h} - P_{h} T_{c}}{\\left(- P_{c} + P_{h}\\right)^{2}}\\right)^{2} + s_{P h}^{2} \\left(- \\frac{T_{c}}{- P_{c} + P_{h}} - \\frac{P_{c} T_{h} - P_{h} T_{c}}{\\left(- P_{c} + P_{h}\\right)^{2}}\\right)^{2} + s_{T c}^{2} \\left(- \\frac{P_{h}}{- P_{c} + P_{h}}\\right)^{2} + s_{T h}^{2} \\left(\\frac{P_{c}}{- P_{c} + P_{h}}\\right)^{2}}\n"
     ]
    },
    {
     "data": {
      "text/latex": [
       "$\\displaystyle \\sqrt{s_{P c}^{2} \\left(\\frac{T_{h}}{- P_{c} + P_{h}} + \\frac{P_{c} T_{h} - P_{h} T_{c}}{\\left(- P_{c} + P_{h}\\right)^{2}}\\right)^{2} + s_{P h}^{2} \\left(- \\frac{T_{c}}{- P_{c} + P_{h}} - \\frac{P_{c} T_{h} - P_{h} T_{c}}{\\left(- P_{c} + P_{h}\\right)^{2}}\\right)^{2} + s_{T c}^{2} \\left(- \\frac{P_{h}}{- P_{c} + P_{h}}\\right)^{2} + s_{T h}^{2} \\left(\\frac{P_{c}}{- P_{c} + P_{h}}\\right)^{2}}$"
      ],
      "text/plain": [
       "sqrt(s_P_c**2*(T_h/(-P_c + P_h) + (P_c*T_h - P_h*T_c)/(-P_c + P_h)**2)**2 + s_P_h**2*(-T_c/(-P_c + P_h) - (P_c*T_h - P_h*T_c)/(-P_c + P_h)**2)**2 + s_T_c**2*(-P_h/(-P_c + P_h))**2 + s_T_h**2*(P_c/(-P_c + P_h))**2)"
      ]
     },
     "metadata": {},
     "output_type": "display_data"
    },
    {
     "name": "stdout",
     "output_type": "stream",
     "text": [
      "G [a.u./K] =  0.80 ± 0.05\n",
      "T_N [K] =  119 ± 10\n"
     ]
    }
   ],
   "source": [
    "# Calc Gain G and Noise Temperature T_N with errors\n",
    "# ----------------------------------------------------------------------------------------\n",
    "\n",
    "P_c_sym = sympy.symbols(\"P_c\")\n",
    "P_h_sym = sympy.symbols(\"P_h\")\n",
    "T_h_sym = sympy.symbols(\"T_h\")\n",
    "T_c_sym = sympy.symbols(\"T_c\")\n",
    "T_N_sym = sympy.symbols(\"T_N\")\n",
    "G_sym = sympy.symbols(\"G\")\n",
    "\n",
    "# G Calculation and Error propagation (Formulas)\n",
    "with sympy.evaluate(False):\n",
    "    G_expr_sym = (P_h_sym - P_c_sym) / (T_h_sym - T_c_sym)\n",
    "G_eq_sym = sympy.Eq(G_sym, G_expr_sym)\n",
    "display(G_eq_sym)\n",
    "\n",
    "def log(eq : sympy.Eq):\n",
    "    display(eq)\n",
    "    print(sympy.latex(eq))\n",
    "\n",
    "G_err_expr = pt.u_error_propagation_formula(G_expr_sym, values = [P_c_sym,P_h_sym,T_c_sym,T_h_sym], target_symbol=G_sym, logger = log)\n",
    "display(G_err_expr)\n",
    "\n",
    "# T_N Calculation and Error propagation (Formulas)\n",
    "with sympy.evaluate(False):\n",
    "    T_N_expr_sym = (T_h_sym*P_c_sym - T_c_sym*P_h_sym) / (P_h_sym - P_c_sym)\n",
    "T_N_eq_sym = sympy.Eq(T_N_sym, T_N_expr_sym)\n",
    "display(T_N_eq_sym)\n",
    "\n",
    "def log(eq : sympy.Eq):\n",
    "    display(eq)\n",
    "    print(sympy.latex(eq))\n",
    "\n",
    "T_N_err_expr = pt.u_error_propagation_formula(T_N_expr_sym, values = [P_c_sym,P_h_sym,T_c_sym,T_h_sym], target_symbol=T_N_sym, logger = log)\n",
    "display(T_N_err_expr)\n",
    "\n",
    "# G Calculation and Error propagation (Values)\n",
    "G = pt.err.u_propagate_error(G_expr_sym, {P_c_sym:P_c, P_h_sym:P_h, T_c_sym:T_c, T_h_sym:T_h})\n",
    "print(\"G [a.u./K] = \", G)\n",
    "\n",
    "# T_N Calculation and Error propagation (Values)\n",
    "T_N = pt.err.u_propagate_error(T_N_expr_sym, {P_c_sym:P_c, P_h_sym:P_h, T_c_sym:T_c, T_h_sym:T_h})\n",
    "print(\"T_N [K] = \", T_N)"
   ]
  },
  {
   "cell_type": "code",
   "execution_count": 14,
   "id": "54b130e0",
   "metadata": {},
   "outputs": [
    {
     "data": {
      "text/latex": [
       "$\\displaystyle T_{A} = - T_{N} + \\frac{P_{s}}{G}$"
      ],
      "text/plain": [
       "Eq(T_A, -T_N + P_s/G)"
      ]
     },
     "metadata": {},
     "output_type": "display_data"
    },
    {
     "data": {
      "text/latex": [
       "$\\displaystyle s_{T A}^{2} = s_{G}^{2} \\left(\\frac{\\partial}{\\partial G} T_{A}{\\left(G,P_{s},T_{N} \\right)}\\right)^{2} + s_{P s}^{2} \\left(\\frac{\\partial}{\\partial P_{s}} T_{A}{\\left(G,P_{s},T_{N} \\right)}\\right)^{2} + s_{T N}^{2} \\left(\\frac{\\partial}{\\partial T_{N}} T_{A}{\\left(G,P_{s},T_{N} \\right)}\\right)^{2}$"
      ],
      "text/plain": [
       "Eq(s_T_A**2, s_G**2*Derivative(T_A(G, P_s, T_N), G)**2 + s_P_s**2*Derivative(T_A(G, P_s, T_N), P_s)**2 + s_T_N**2*Derivative(T_A(G, P_s, T_N), T_N)**2)"
      ]
     },
     "metadata": {},
     "output_type": "display_data"
    },
    {
     "name": "stdout",
     "output_type": "stream",
     "text": [
      "s_{T A}^{2} = s_{G}^{2} \\left(\\frac{\\partial}{\\partial G} T_{A}{\\left(G,P_{s},T_{N} \\right)}\\right)^{2} + s_{P s}^{2} \\left(\\frac{\\partial}{\\partial P_{s}} T_{A}{\\left(G,P_{s},T_{N} \\right)}\\right)^{2} + s_{T N}^{2} \\left(\\frac{\\partial}{\\partial T_{N}} T_{A}{\\left(G,P_{s},T_{N} \\right)}\\right)^{2}\n"
     ]
    },
    {
     "data": {
      "text/latex": [
       "$\\displaystyle s_{T A}^{2} = s_{P s}^{2} \\left(\\frac{1}{G}\\right)^{2} + s_{G}^{2} \\left(- \\frac{P_{s}}{G^{2}}\\right)^{2} + \\left(-1\\right)^{2} s_{T N}^{2}$"
      ],
      "text/plain": [
       "Eq(s_T_A**2, s_P_s**2*(1/G)**2 + s_G**2*(-P_s/G**2)**2 + s_T_N**2*(-1)**2)"
      ]
     },
     "metadata": {},
     "output_type": "display_data"
    },
    {
     "name": "stdout",
     "output_type": "stream",
     "text": [
      "s_{T A}^{2} = s_{P s}^{2} \\left(\\frac{1}{G}\\right)^{2} + s_{G}^{2} \\left(- \\frac{P_{s}}{G^{2}}\\right)^{2} + \\left(-1\\right)^{2} s_{T N}^{2}\n"
     ]
    },
    {
     "data": {
      "text/latex": [
       "$\\displaystyle s_{T A} = \\sqrt{s_{P s}^{2} \\left(\\frac{1}{G}\\right)^{2} + s_{G}^{2} \\left(- \\frac{P_{s}}{G^{2}}\\right)^{2} + \\left(-1\\right)^{2} s_{T N}^{2}}$"
      ],
      "text/plain": [
       "Eq(s_T_A, sqrt(s_P_s**2*(1/G)**2 + s_G**2*(-P_s/G**2)**2 + s_T_N**2*(-1)**2))"
      ]
     },
     "metadata": {},
     "output_type": "display_data"
    },
    {
     "name": "stdout",
     "output_type": "stream",
     "text": [
      "s_{T A} = \\sqrt{s_{P s}^{2} \\left(\\frac{1}{G}\\right)^{2} + s_{G}^{2} \\left(- \\frac{P_{s}}{G^{2}}\\right)^{2} + \\left(-1\\right)^{2} s_{T N}^{2}}\n"
     ]
    },
    {
     "data": {
      "text/latex": [
       "$\\displaystyle \\sqrt{s_{P s}^{2} \\left(\\frac{1}{G}\\right)^{2} + s_{G}^{2} \\left(- \\frac{P_{s}}{G^{2}}\\right)^{2} + \\left(-1\\right)^{2} s_{T N}^{2}}$"
      ],
      "text/plain": [
       "sqrt(s_P_s**2*(1/G)**2 + s_G**2*(-P_s/G**2)**2 + s_T_N**2*(-1)**2)"
      ]
     },
     "metadata": {},
     "output_type": "display_data"
    },
    {
     "name": "stdout",
     "output_type": "stream",
     "text": [
      "T_A [K] =  (3.3 ± 0.3) × 10^3\n",
      "3267.310333292119,271.7124293587287\n"
     ]
    }
   ],
   "source": [
    "# Antenna Temperature, pointing to the sun\n",
    "# ----------------------------------------------------------------------------------------\n",
    "T_A_sym = sympy.symbols(\"T_A\")\n",
    "P_s_sym = sympy.symbols(\"P_s\")\n",
    "\n",
    "# T_A Calculation and Error propagation (Formulas)\n",
    "with sympy.evaluate(False):\n",
    "    T_A_expr_sym = P_s_sym / G_sym - T_N_sym\n",
    "T_A_eq_sym = sympy.Eq(T_A_sym, T_A_expr_sym)\n",
    "display(T_A_eq_sym)\n",
    "\n",
    "def log(eq : sympy.Eq):\n",
    "    display(eq)\n",
    "    print(sympy.latex(eq))\n",
    "\n",
    "T_A_err_expr = pt.u_error_propagation_formula(T_A_expr_sym, values = [P_s_sym,G_sym,T_N_sym], target_symbol=T_A_sym, logger = log)\n",
    "display(T_A_err_expr)\n",
    "\n",
    "# T_A Calculation and Error propagation (Values)\n",
    "T_A = pt.err.u_propagate_error(T_A_expr_sym, {P_s_sym:P_s, G_sym:G, T_N_sym:T_N})\n",
    "print(\"T_A [K] = \", T_A)\n",
    "print(f'{T_A.mean[0]},{T_A.err[0]}')\n"
   ]
  },
  {
   "cell_type": "code",
   "execution_count": null,
   "id": "aeca63a3",
   "metadata": {},
   "outputs": [
    {
     "ename": "NameError",
     "evalue": "name 'UErr' is not defined",
     "output_type": "error",
     "traceback": [
      "\u001b[31m---------------------------------------------------------------------------\u001b[39m",
      "\u001b[31mNameError\u001b[39m                                 Traceback (most recent call last)",
      "\u001b[36mCell\u001b[39m\u001b[36m \u001b[39m\u001b[32mIn[15]\u001b[39m\u001b[32m, line 2\u001b[39m\n\u001b[32m      1\u001b[39m \u001b[38;5;66;03m# Calculate Beam filling factor and sun brightness temperature \u001b[39;00m\n\u001b[32m----> \u001b[39m\u001b[32m2\u001b[39m fhmw_deg = \u001b[43mUErr\u001b[49m(\u001b[32m3.738\u001b[39m,\u001b[32m0.008\u001b[39m) \u001b[38;5;66;03m# From sun_scan.ipynb\u001b[39;00m\n\u001b[32m      4\u001b[39m BFF_s = np.pi*(\u001b[32m32\u001b[39m/\u001b[32m60\u001b[39m)**\u001b[32m2\u001b[39m/(\u001b[32m1.133\u001b[39m*fhmw_deg**\u001b[32m2\u001b[39m)\n\u001b[32m      5\u001b[39m display(bff*\u001b[32m100\u001b[39m)\n",
      "\u001b[31mNameError\u001b[39m: name 'UErr' is not defined"
     ]
    }
   ],
   "source": [
    "# Calculate Beam filling factor and sun brightness temperature \n",
    "fhmw_deg = pt.UErr(3.738,0.008) # From sun_scan.ipynb\n",
    "\n",
    "BFF_s = np.pi*(32/60)**2/(1.133*fhmw_deg**2)\n",
    "display(bff*100)\n",
    "\n",
    "\n",
    "print(f'{bff.mean[0,0]},{bff.err[0,0]}')"
   ]
  }
 ],
 "metadata": {
  "kernelspec": {
   "display_name": "Python 3",
   "language": "python",
   "name": "python3"
  },
  "language_info": {
   "codemirror_mode": {
    "name": "ipython",
    "version": 3
   },
   "file_extension": ".py",
   "mimetype": "text/x-python",
   "name": "python",
   "nbconvert_exporter": "python",
   "pygments_lexer": "ipython3",
   "version": "3.12.6"
  }
 },
 "nbformat": 4,
 "nbformat_minor": 5
}
