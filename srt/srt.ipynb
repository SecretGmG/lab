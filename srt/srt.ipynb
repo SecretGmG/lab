{
 "cells": [
  {
   "cell_type": "code",
   "execution_count": 18,
   "id": "92d0ae0c",
   "metadata": {},
   "outputs": [],
   "source": [
    "import sympy\n",
    "import numpy as np\n",
    "import PhysicsTool as pt\n",
    "\n",
    "pt.err.set_formatter(pt.err.UErrFormatter(4))"
   ]
  },
  {
   "cell_type": "code",
   "execution_count": 23,
   "id": "7001dab4",
   "metadata": {},
   "outputs": [
    {
     "name": "stdout",
     "output_type": "stream",
     "text": [
      "\\SI{0(1)}{}\\\\\n",
      "\\SI{0(4)}{}\\\\\n",
      "\\SI{0(8)}{}\n"
     ]
    }
   ],
   "source": [
    "a = pt.UErr([1,2,3],3)\n",
    "b = pt.UErr([1,2,3],1)\n",
    "\n",
    "a_, b_ = sympy.symbols('a b')\n",
    "\n",
    "result = pt.err.u_propagate_error(sympy.sin(a_ * b_), {a_: a, b_: b})\n",
    "\n",
    "print(result.latex(pt.err.UErrFormatter()))"
   ]
  }
 ],
 "metadata": {
  "kernelspec": {
   "display_name": ".venv",
   "language": "python",
   "name": "python3"
  },
  "language_info": {
   "codemirror_mode": {
    "name": "ipython",
    "version": 3
   },
   "file_extension": ".py",
   "mimetype": "text/x-python",
   "name": "python",
   "nbconvert_exporter": "python",
   "pygments_lexer": "ipython3",
   "version": "3.12.3"
  }
 },
 "nbformat": 4,
 "nbformat_minor": 5
}
